{
 "cells": [
  {
   "cell_type": "code",
   "execution_count": 1,
   "id": "439d2dd2",
   "metadata": {},
   "outputs": [
    {
     "ename": "ModuleNotFoundError",
     "evalue": "No module named 'mathplotlib'",
     "output_type": "error",
     "traceback": [
      "\u001b[1;31m---------------------------------------------------------------------------\u001b[0m",
      "\u001b[1;31mModuleNotFoundError\u001b[0m                       Traceback (most recent call last)",
      "\u001b[1;32mC:\\Users\\ESTUDI~1\\AppData\\Local\\Temp/ipykernel_8048/2667667450.py\u001b[0m in \u001b[0;36m<module>\u001b[1;34m\u001b[0m\n\u001b[1;32m----> 1\u001b[1;33m \u001b[1;32mimport\u001b[0m \u001b[0mmathplotlib\u001b[0m\u001b[1;33m\u001b[0m\u001b[1;33m\u001b[0m\u001b[0m\n\u001b[0m",
      "\u001b[1;31mModuleNotFoundError\u001b[0m: No module named 'mathplotlib'"
     ]
    }
   ],
   "source": [
    "import mathplotlib"
   ]
  },
  {
   "cell_type": "code",
   "execution_count": 13,
   "id": "62adbdb7",
   "metadata": {},
   "outputs": [],
   "source": [
    "import numpy as np"
   ]
  },
  {
   "cell_type": "code",
   "execution_count": 10,
   "id": "a86a0bff",
   "metadata": {},
   "outputs": [],
   "source": [
    "import matplotlib.pyplot as plt"
   ]
  },
  {
   "cell_type": "code",
   "execution_count": 4,
   "id": "f0926c02",
   "metadata": {},
   "outputs": [
    {
     "name": "stdout",
     "output_type": "stream",
     "text": [
      "Collecting qutip\n",
      "  Downloading qutip-4.6.3-cp39-cp39-win_amd64.whl (5.5 MB)\n",
      "Requirement already satisfied: packaging in c:\\users\\estudiante\\anaconda3\\lib\\site-packages (from qutip) (21.0)\n",
      "Requirement already satisfied: numpy>=1.16.6 in c:\\users\\estudiante\\anaconda3\\lib\\site-packages (from qutip) (1.20.3)\n",
      "Requirement already satisfied: scipy>=1.0 in c:\\users\\estudiante\\anaconda3\\lib\\site-packages (from qutip) (1.7.1)\n",
      "Requirement already satisfied: pyparsing>=2.0.2 in c:\\users\\estudiante\\anaconda3\\lib\\site-packages (from packaging->qutip) (3.0.4)\n",
      "Installing collected packages: qutip\n",
      "Successfully installed qutip-4.6.3\n",
      "Note: you may need to restart the kernel to use updated packages.\n"
     ]
    }
   ],
   "source": [
    "pip install qutip"
   ]
  },
  {
   "cell_type": "code",
   "execution_count": 1,
   "id": "cd8f2439",
   "metadata": {},
   "outputs": [],
   "source": [
    "import scipy as sp"
   ]
  },
  {
   "cell_type": "code",
   "execution_count": 8,
   "id": "a80e663b",
   "metadata": {},
   "outputs": [
    {
     "ename": "SyntaxError",
     "evalue": "invalid syntax (Temp/ipykernel_9544/232982947.py, line 1)",
     "output_type": "error",
     "traceback": [
      "\u001b[1;36m  File \u001b[1;32m\"C:\\Users\\ESTUDI~1\\AppData\\Local\\Temp/ipykernel_9544/232982947.py\"\u001b[1;36m, line \u001b[1;32m1\u001b[0m\n\u001b[1;33m    from qutip import * as qt\u001b[0m\n\u001b[1;37m                        ^\u001b[0m\n\u001b[1;31mSyntaxError\u001b[0m\u001b[1;31m:\u001b[0m invalid syntax\n"
     ]
    }
   ],
   "source": [
    "from qutip import *"
   ]
  },
  {
   "cell_type": "code",
   "execution_count": 9,
   "id": "ae35ceaa",
   "metadata": {},
   "outputs": [
    {
     "name": "stdout",
     "output_type": "stream",
     "text": [
      "\n",
      "QuTiP: Quantum Toolbox in Python\n",
      "================================\n",
      "Copyright (c) QuTiP team 2011 and later.\n",
      "Current admin team: Alexander Pitchford, Nathan Shammah, Shahnawaz Ahmed, Neill Lambert, Eric Giguère, Boxi Li, Jake Lishman and Simon Cross.\n",
      "Board members: Daniel Burgarth, Robert Johansson, Anton F. Kockum, Franco Nori and Will Zeng.\n",
      "Original developers: R. J. Johansson & P. D. Nation.\n",
      "Previous lead developers: Chris Granade & A. Grimsmo.\n",
      "Currently developed through wide collaboration. See https://github.com/qutip for details.\n",
      "\n",
      "QuTiP Version:      4.6.3\n",
      "Numpy Version:      1.20.3\n",
      "Scipy Version:      1.7.1\n",
      "Cython Version:     0.29.24\n",
      "Matplotlib Version: 3.4.3\n",
      "Python Version:     3.9.7\n",
      "Number of CPUs:     6\n",
      "BLAS Info:          INTEL MKL\n",
      "OPENMP Installed:   False\n",
      "INTEL MKL Ext:      False\n",
      "Platform Info:      Windows (AMD64)\n",
      "Installation path:  C:\\Users\\Estudiante\\anaconda3\\lib\\site-packages\\qutip\n",
      "================================================================================\n",
      "Please cite QuTiP in your publication.\n",
      "================================================================================\n",
      "For your convenience a bibtex reference can be easily generated using `qutip.cite()`\n"
     ]
    }
   ],
   "source": [
    "qutip.about()"
   ]
  },
  {
   "cell_type": "code",
   "execution_count": 11,
   "id": "d92479b2",
   "metadata": {},
   "outputs": [
    {
     "name": "stdout",
     "output_type": "stream",
     "text": [
      "Quantum object: dims = [[1], [1]], shape = (1, 1), type = bra\n",
      "Qobj data =\n",
      "[[0.]]\n"
     ]
    }
   ],
   "source": [
    "print(Qobj())"
   ]
  },
  {
   "cell_type": "code",
   "execution_count": 14,
   "id": "af3d669d",
   "metadata": {},
   "outputs": [],
   "source": [
    "x = np.array([[1,2,3,4,5]])"
   ]
  },
  {
   "cell_type": "code",
   "execution_count": 16,
   "id": "af6aca5c",
   "metadata": {},
   "outputs": [
    {
     "name": "stdout",
     "output_type": "stream",
     "text": [
      "Quantum object: dims = [[1], [5]], shape = (1, 5), type = bra\n",
      "Qobj data =\n",
      "[[1. 2. 3. 4. 5.]]\n"
     ]
    }
   ],
   "source": [
    "print(Qobj(x))"
   ]
  },
  {
   "cell_type": "code",
   "execution_count": null,
   "id": "f8823666",
   "metadata": {},
   "outputs": [],
   "source": []
  }
 ],
 "metadata": {
  "kernelspec": {
   "display_name": "Python 3 (ipykernel)",
   "language": "python",
   "name": "python3"
  },
  "language_info": {
   "codemirror_mode": {
    "name": "ipython",
    "version": 3
   },
   "file_extension": ".py",
   "mimetype": "text/x-python",
   "name": "python",
   "nbconvert_exporter": "python",
   "pygments_lexer": "ipython3",
   "version": "3.9.7"
  }
 },
 "nbformat": 4,
 "nbformat_minor": 5
}
